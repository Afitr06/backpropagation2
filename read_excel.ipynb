{
  "nbformat": 4,
  "nbformat_minor": 0,
  "metadata": {
    "colab": {
      "provenance": [],
      "authorship_tag": "ABX9TyMwKvv0NxTbI64ychIf6fHt",
      "include_colab_link": true
    },
    "kernelspec": {
      "name": "python3",
      "display_name": "Python 3"
    },
    "language_info": {
      "name": "python"
    }
  },
  "cells": [
    {
      "cell_type": "markdown",
      "metadata": {
        "id": "view-in-github",
        "colab_type": "text"
      },
      "source": [
        "<a href=\"https://colab.research.google.com/github/Afitr06/backpropagation2/blob/main/read_excel.ipynb\" target=\"_parent\"><img src=\"https://colab.research.google.com/assets/colab-badge.svg\" alt=\"Open In Colab\"/></a>"
      ]
    },
    {
      "cell_type": "code",
      "execution_count": null,
      "metadata": {
        "id": "OV_T44wW_7aE"
      },
      "outputs": [],
      "source": [
        "import pandas as pd\n",
        "\n",
        "def read_file(filename):\n",
        "    file = pd.read_excel(filename)\n",
        "    file = file.values.tolist()\n",
        "    return file\n",
        "\n",
        "#data = read_file('training.xlsx')\n",
        "#print(data[:5])"
      ]
    }
  ]
}