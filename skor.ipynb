{
  "nbformat": 4,
  "nbformat_minor": 0,
  "metadata": {
    "colab": {
      "provenance": [],
      "authorship_tag": "ABX9TyOnF08Lt1fdDVURijWeZ+//",
      "include_colab_link": true
    },
    "kernelspec": {
      "name": "python3",
      "display_name": "Python 3"
    },
    "language_info": {
      "name": "python"
    }
  },
  "cells": [
    {
      "cell_type": "markdown",
      "metadata": {
        "id": "view-in-github",
        "colab_type": "text"
      },
      "source": [
        "<a href=\"https://colab.research.google.com/github/Afitr06/backpropagation2/blob/main/skor.ipynb\" target=\"_parent\"><img src=\"https://colab.research.google.com/assets/colab-badge.svg\" alt=\"Open In Colab\"/></a>"
      ]
    },
    {
      "cell_type": "code",
      "execution_count": null,
      "metadata": {
        "id": "zq-92EOP9P7r"
      },
      "outputs": [],
      "source": [
        "import pandas as pd\n",
        "import numpy as np\n",
        "from sklearn.utils import shuffle\n",
        "import tensorflow as tf\n",
        "from keras.models import Model, Sequential, load_model\n",
        "from keras.layers import Input, Activation, Dense\n",
        "from keras.optimizers import SGD\n",
        "import matplotlib.pylab as plt\n",
        "from keras.utils.np_utils import to_categorical\n",
        "from keras.models import load_model\n",
        "\n",
        "\n",
        "def scores(a,b):\n",
        "    return a+b"
      ]
    }
  ]
}