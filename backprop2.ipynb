{
  "nbformat": 4,
  "nbformat_minor": 0,
  "metadata": {
    "colab": {
      "provenance": [],
      "authorship_tag": "ABX9TyMEQT/GY+hzjEcr+FONkT3k",
      "include_colab_link": true
    },
    "kernelspec": {
      "name": "python3",
      "display_name": "Python 3"
    },
    "language_info": {
      "name": "python"
    }
  },
  "cells": [
    {
      "cell_type": "markdown",
      "metadata": {
        "id": "view-in-github",
        "colab_type": "text"
      },
      "source": [
        "<a href=\"https://colab.research.google.com/github/Afitr06/backpropagation2/blob/main/backprop2.ipynb\" target=\"_parent\"><img src=\"https://colab.research.google.com/assets/colab-badge.svg\" alt=\"Open In Colab\"/></a>"
      ]
    },
    {
      "cell_type": "code",
      "execution_count": null,
      "metadata": {
        "id": "zq-92EOP9P7r"
      },
      "outputs": [],
      "source": [
        "import pandas as pd\n",
        "import numpy as np\n",
        "from sklearn.utils import shuffle\n",
        "import tensorflow as tf\n",
        "from keras.models import Model, Sequential, load_model\n",
        "from keras.layers import Input, Activation, Dense\n",
        "from keras.optimizers import SGD\n",
        "import matplotlib.pylab as plt\n",
        "from keras.utils.np_utils import to_categorical\n",
        "from keras.models import load_model\n",
        "from backprop import *\n",
        "from keras import backend as K\n",
        "\n",
        "def load_data_prediksi(filename):\n",
        "    df = pd.read_excel(filename)\n",
        "    X = np.array(df)\n",
        "    return X\n",
        "\n",
        "score = 0\n",
        "empty = False\n",
        "def scoress(filemodel, filedata):\n",
        "    x,y = load_data(filedata);\n",
        "    X_train, X_test, Y_train, Y_test = train_test(x, y)\n",
        "    Y_train, Y_test = label_cat(Y_train, Y_test)\n",
        "    #model = load_model(filemodel)\n",
        "    model = load_model(\"./media/model/model_backprop.h5\")\n",
        "    scores = model.evaluate(X_test, Y_test)\n",
        "    skor = scores[1]*100\n",
        "    K.clear_session()\n",
        "    return skor\n",
        "\n",
        "def prediksi_jwb(x1,x2,x3,x4,x5,x6,x7):\n",
        "    list = [[x1,x2,x3,x4,x5,x6,x7]]\n",
        "    X_test = np.asarray(list)\n",
        "    model = load_model(\"./media/model/model_backprop.h5\")\n",
        "    y_dict = {\n",
        "        1 : 'Kurang',\n",
        "        2 : 'Cukup',\n",
        "        3 : 'Baik',\n",
        "        4 : 'Memuaskan',\n",
        "        5 : 'Cumlaude'\n",
        "        }\n",
        "    hasil = model.predict(X_test)\n",
        "    for i in range(len(hasil)):\n",
        "        index = np.argmax(hasil[i])\n",
        "        predicted = y_dict[index]\n",
        "    K.clear_session()\n",
        "    return predicted\n",
        "\n",
        "def prediksi_jwb_file(filedata):\n",
        "    hasil_prediksi = []\n",
        "    data = load_data_prediksi(filedata)\n",
        "    X_test = data\n",
        "    model = load_model(\"./media/model/model_backprop.h5\")\n",
        "    y_dict = {\n",
        "        1 : 'Kurang',\n",
        "        2 : 'Cukup',\n",
        "        3 : 'Baik',\n",
        "        4 : 'Memuaskan',\n",
        "        5 : 'Cumlaude'\n",
        "        }\n",
        "    hasilnya = model.predict(X_test)\n",
        "    for i in range(len(hasilnya)):\n",
        "        index = np.argmax(hasilnya[i])\n",
        "        predicted = y_dict[index]\n",
        "        hasil_prediksi.append(predicted)\n",
        "    K.clear_session()\n",
        "    return hasil_prediksi\n",
        "\n",
        "def hitung(hasil):\n",
        "    jml_memuaskan = 0\n",
        "    jml_cumlaude = 0\n",
        "    jml_baik = 0\n",
        "    jml_cukup = 0\n",
        "    jml_kurang = 0\n",
        "    for i in hasil:\n",
        "        if i == \"Memuaskan\":\n",
        "            jml_memuaskan = jml_memuaskan+1\n",
        "        elif i == \"Cumlaude\":\n",
        "            jml_cumlaude = jml_cumlaude+1\n",
        "        elif i == \"Baik\":\n",
        "            jml_baik = jml_baik+1\n",
        "        elif i == \"Cukup\":\n",
        "            jml_cukup = jml_cukup+1\n",
        "        elif i == \"Kurang\":\n",
        "            jml_kurang = jml_kurang+1\n",
        "    return jml_memuaskan, jml_cumlaude, jml_baik, jml_cukup, jml_kurang"
      ]
    }
  ]
}